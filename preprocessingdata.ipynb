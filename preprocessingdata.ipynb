{
  "nbformat": 4,
  "nbformat_minor": 0,
  "metadata": {
    "colab": {
      "provenance": [],
      "authorship_tag": "ABX9TyPuUxx6feVtSrEsd+BCWQBy",
      "include_colab_link": true
    },
    "kernelspec": {
      "name": "python3",
      "display_name": "Python 3"
    },
    "language_info": {
      "name": "python"
    }
  },
  "cells": [
    {
      "cell_type": "markdown",
      "metadata": {
        "id": "view-in-github",
        "colab_type": "text"
      },
      "source": [
        "<a href=\"https://colab.research.google.com/github/TamaMahasiswa/preprocessingdata/blob/main/preprocessingdata.ipynb\" target=\"_parent\"><img src=\"https://colab.research.google.com/assets/colab-badge.svg\" alt=\"Open In Colab\"/></a>"
      ]
    },
    {
      "cell_type": "markdown",
      "source": [
        "Langkah Awal sebslum kita menjalankan preprocessingdata, kita harus menginport library seperti di bawah ini:"
      ],
      "metadata": {
        "id": "_TOx8E09USL1"
      }
    },
    {
      "cell_type": "code",
      "execution_count": null,
      "metadata": {
        "id": "vzMS9uyXSK2r"
      },
      "outputs": [],
      "source": [
        "import numpy as np\n",
        "import matplotlib.pyplot as plt\n",
        "import pandas as pd"
      ]
    },
    {
      "cell_type": "markdown",
      "source": [
        "Setelah mengimpor library, langkah berikutnya adalah membaca data dari file CSV yang berisi nilai X dan Y."
      ],
      "metadata": {
        "id": "MdNCp85QUee6"
      }
    },
    {
      "cell_type": "code",
      "source": [
        "dataset = pd.read_csv('data_pembelian.csv')\n",
        "x = dataset.iloc[:, :-1].values\n",
        "y = dataset.iloc[:, -1].values"
      ],
      "metadata": {
        "id": "dlqMwEieSoUc"
      },
      "execution_count": null,
      "outputs": []
    },
    {
      "cell_type": "markdown",
      "source": [
        "menjalankan printah untuk membaca nilai X"
      ],
      "metadata": {
        "id": "CP4mDEFzU1xY"
      }
    },
    {
      "cell_type": "code",
      "source": [
        "print(x)"
      ],
      "metadata": {
        "colab": {
          "base_uri": "https://localhost:8080/"
        },
        "id": "2C5xdVYWSzTS",
        "outputId": "0df6f8e4-70eb-4bf7-8ae5-2c361cabf687"
      },
      "execution_count": null,
      "outputs": [
        {
          "output_type": "stream",
          "name": "stdout",
          "text": [
            "[['Indonesia' 25.0 5000000.0]\n",
            " ['Malaysia' 30.0 nan]\n",
            " ['Singapura' nan 7000000.0]\n",
            " ['Indonesia' 35.0 8000000.0]\n",
            " ['Malaysia' nan 9000000.0]\n",
            " ['Singapura' 45.0 10000000.0]\n",
            " ['Indonesia' 50.0 nan]\n",
            " ['Malaysia' 55.0 12000000.0]\n",
            " ['Singapura' 32.0 6500000.0]\n",
            " ['Indonesia' nan 7200000.0]\n",
            " ['Malaysia' 42.0 8300000.0]\n",
            " ['Singapura' 37.0 9100000.0]\n",
            " ['Indonesia' 46.0 9700000.0]\n",
            " ['Malaysia' 31.0 nan]\n",
            " ['Singapura' nan 8600000.0]\n",
            " ['Indonesia' 27.0 6300000.0]\n",
            " ['Malaysia' 48.0 10200000.0]\n",
            " ['Singapura' 26.0 5800000.0]\n",
            " ['Indonesia' 39.0 nan]\n",
            " ['Malaysia' nan 11200000.0]]\n"
          ]
        }
      ]
    },
    {
      "cell_type": "markdown",
      "source": [
        "menjalankan printah untuk membaca nilai y"
      ],
      "metadata": {
        "id": "ECvriSjIU7Nb"
      }
    },
    {
      "cell_type": "code",
      "source": [
        "print(y)"
      ],
      "metadata": {
        "colab": {
          "base_uri": "https://localhost:8080/"
        },
        "id": "vGRfe3f8S3ie",
        "outputId": "bce9d0b4-599b-4b88-fcde-cfaf43cb3430"
      },
      "execution_count": null,
      "outputs": [
        {
          "output_type": "stream",
          "name": "stdout",
          "text": [
            "['Ya' 'Tidak' 'Ya' nan 'Tidak' 'Ya' 'Tidak' 'Ya' 'Tidak' 'Ya' nan 'Ya'\n",
            " 'Tidak' 'Ya' 'Tidak' nan 'Tidak' 'Ya' 'Tidak' 'Ya']\n"
          ]
        }
      ]
    },
    {
      "cell_type": "markdown",
      "source": [
        "Jika terdapat nilai yang hilang dalam dataset, kita akan mengisinya dengan nilai rata-rata (mean) dari masing-masing kolom."
      ],
      "metadata": {
        "id": "lbnQrIKCVT6k"
      }
    },
    {
      "cell_type": "code",
      "source": [
        "from sklearn.impute import SimpleImputer\n",
        "imputer = SimpleImputer(missing_values=np.nan, strategy='mean')\n",
        "imputer.fit(x[:, 1:3])\n",
        "x[:, 1:3] = imputer.transform(x[:, 1:3])"
      ],
      "metadata": {
        "id": "cAX1ijjWS6Hr"
      },
      "execution_count": null,
      "outputs": []
    },
    {
      "cell_type": "markdown",
      "source": [
        "Ketika kita menjalankan kode `print(X)`, program akan menampilkan data X setelah proses pengisian nilai yang hilang dengan rata-rata (mean). Ini berguna untuk memastikan bahwa semua nilai yang hilang telah terisi dengan benar dan dataset siap digunakan untuk analisis lebih lanjut."
      ],
      "metadata": {
        "id": "b-sV47g7VXUT"
      }
    },
    {
      "cell_type": "code",
      "source": [
        "print(x)"
      ],
      "metadata": {
        "colab": {
          "base_uri": "https://localhost:8080/"
        },
        "id": "j24o_einTC3e",
        "outputId": "b1c69a77-a6d9-43e2-b847-85a26f2b14f7"
      },
      "execution_count": null,
      "outputs": [
        {
          "output_type": "stream",
          "name": "stdout",
          "text": [
            "[['Indonesia' 25.0 5000000.0]\n",
            " ['Malaysia' 30.0 8368750.0]\n",
            " ['Singapura' 37.86666666666667 7000000.0]\n",
            " ['Indonesia' 35.0 8000000.0]\n",
            " ['Malaysia' 37.86666666666667 9000000.0]\n",
            " ['Singapura' 45.0 10000000.0]\n",
            " ['Indonesia' 50.0 8368750.0]\n",
            " ['Malaysia' 55.0 12000000.0]\n",
            " ['Singapura' 32.0 6500000.0]\n",
            " ['Indonesia' 37.86666666666667 7200000.0]\n",
            " ['Malaysia' 42.0 8300000.0]\n",
            " ['Singapura' 37.0 9100000.0]\n",
            " ['Indonesia' 46.0 9700000.0]\n",
            " ['Malaysia' 31.0 8368750.0]\n",
            " ['Singapura' 37.86666666666667 8600000.0]\n",
            " ['Indonesia' 27.0 6300000.0]\n",
            " ['Malaysia' 48.0 10200000.0]\n",
            " ['Singapura' 26.0 5800000.0]\n",
            " ['Indonesia' 39.0 8368750.0]\n",
            " ['Malaysia' 37.86666666666667 11200000.0]]\n"
          ]
        }
      ]
    },
    {
      "cell_type": "markdown",
      "source": [
        "Kita akan mengubah data kategorikal menjadi bentuk numerik menggunakan One-Hot Encoding. Metode ini akan mengonversi setiap kategori unik dalam kolom menjadi vektor biner, sehingga data lebih mudah diproses oleh algoritma machine learning."
      ],
      "metadata": {
        "id": "bAU_d-YBWHk_"
      }
    },
    {
      "cell_type": "code",
      "source": [
        "from sklearn.compose import ColumnTransformer\n",
        "from sklearn.preprocessing import OneHotEncoder\n",
        "ct = ColumnTransformer(transformers=[('encoder', OneHotEncoder(), [0])], remainder='passthrough')\n",
        "x = np.array(ct.fit_transform(x))"
      ],
      "metadata": {
        "id": "t1LDnNWNTFt2"
      },
      "execution_count": null,
      "outputs": []
    },
    {
      "cell_type": "markdown",
      "source": [
        "Saat kita menjalankan `print(X)`, program akan menampilkan data X setelah dikonversi menggunakan One-Hot Encoding. Ini memungkinkan kita untuk melihat bagaimana data kategorikal telah diubah menjadi bentuk numerik dengan representasi vektor biner."
      ],
      "metadata": {
        "id": "DSxuOosoWMEG"
      }
    },
    {
      "cell_type": "code",
      "source": [
        "print(x)"
      ],
      "metadata": {
        "colab": {
          "base_uri": "https://localhost:8080/"
        },
        "id": "c8Idf5RzTQ72",
        "outputId": "df2fa193-f8f5-430b-911f-518f4e6619ed"
      },
      "execution_count": null,
      "outputs": [
        {
          "output_type": "stream",
          "name": "stdout",
          "text": [
            "[[1.0 0.0 0.0 25.0 5000000.0]\n",
            " [0.0 1.0 0.0 30.0 8368750.0]\n",
            " [0.0 0.0 1.0 37.86666666666667 7000000.0]\n",
            " [1.0 0.0 0.0 35.0 8000000.0]\n",
            " [0.0 1.0 0.0 37.86666666666667 9000000.0]\n",
            " [0.0 0.0 1.0 45.0 10000000.0]\n",
            " [1.0 0.0 0.0 50.0 8368750.0]\n",
            " [0.0 1.0 0.0 55.0 12000000.0]\n",
            " [0.0 0.0 1.0 32.0 6500000.0]\n",
            " [1.0 0.0 0.0 37.86666666666667 7200000.0]\n",
            " [0.0 1.0 0.0 42.0 8300000.0]\n",
            " [0.0 0.0 1.0 37.0 9100000.0]\n",
            " [1.0 0.0 0.0 46.0 9700000.0]\n",
            " [0.0 1.0 0.0 31.0 8368750.0]\n",
            " [0.0 0.0 1.0 37.86666666666667 8600000.0]\n",
            " [1.0 0.0 0.0 27.0 6300000.0]\n",
            " [0.0 1.0 0.0 48.0 10200000.0]\n",
            " [0.0 0.0 1.0 26.0 5800000.0]\n",
            " [1.0 0.0 0.0 39.0 8368750.0]\n",
            " [0.0 1.0 0.0 37.86666666666667 11200000.0]]\n"
          ]
        }
      ]
    },
    {
      "cell_type": "markdown",
      "source": [
        "Kita akan mengonversi data kategorikal menjadi bentuk numerik menggunakan Label Encoding. Metode ini menggantikan setiap kategori unik dengan angka tertentu, sehingga data dapat digunakan dalam pemrosesan machine learning."
      ],
      "metadata": {
        "id": "5vXm8IGTWXTd"
      }
    },
    {
      "cell_type": "code",
      "source": [
        "from sklearn.preprocessing import LabelEncoder\n",
        "le= LabelEncoder()\n",
        "y=le.fit_transform(y)"
      ],
      "metadata": {
        "id": "j3Wv8o7KTUhm"
      },
      "execution_count": null,
      "outputs": []
    },
    {
      "cell_type": "markdown",
      "source": [
        "Saat kita menjalankan `print(y)`, program akan menampilkan data y setelah dikonversi menggunakan Label Encoding. Ini memungkinkan kita melihat bagaimana setiap kategori telah digantikan dengan nilai numerik."
      ],
      "metadata": {
        "id": "iXRth0W3Wbae"
      }
    },
    {
      "cell_type": "code",
      "source": [
        "print(y)"
      ],
      "metadata": {
        "colab": {
          "base_uri": "https://localhost:8080/"
        },
        "id": "n1zDeElGTVAO",
        "outputId": "79282a4b-631f-4666-a6db-3776fba50c5b"
      },
      "execution_count": null,
      "outputs": [
        {
          "output_type": "stream",
          "name": "stdout",
          "text": [
            "[1 0 1 2 0 1 0 1 0 1 2 1 0 1 0 2 0 1 0 1]\n"
          ]
        }
      ]
    },
    {
      "cell_type": "markdown",
      "source": [
        "Kita akan membagi dataset menjadi data latih (training) dan data uji (testing) agar model machine learning dapat belajar dari data latih dan dievaluasi menggunakan data uji."
      ],
      "metadata": {
        "id": "BlSXP6nBWnqs"
      }
    },
    {
      "cell_type": "code",
      "source": [
        "from sklearn.model_selection import train_test_split\n",
        "x_train, x_test, y_train, y_test = train_test_split(x, y, test_size=0.2, random_state=1)"
      ],
      "metadata": {
        "id": "qKBIoZ5aTX0z"
      },
      "execution_count": null,
      "outputs": []
    },
    {
      "cell_type": "markdown",
      "source": [
        "Saat kita menjalankan `print(X_train)`, program akan menampilkan data latih (training) setelah proses pembagian dataset. Data ini digunakan oleh model machine learning untuk belajar pola dari dataset."
      ],
      "metadata": {
        "id": "YNJyNHAgWvPc"
      }
    },
    {
      "cell_type": "code",
      "source": [
        "print(x_train)"
      ],
      "metadata": {
        "colab": {
          "base_uri": "https://localhost:8080/"
        },
        "id": "_gPDu2iMUCNU",
        "outputId": "16194d0e-18ef-4b8f-931f-aaf0c0c838aa"
      },
      "execution_count": null,
      "outputs": [
        {
          "output_type": "stream",
          "name": "stdout",
          "text": [
            "[[0.0 0.0 1.0 37.86666666666667 7000000.0]\n",
            " [0.0 0.0 1.0 37.86666666666667 8600000.0]\n",
            " [0.0 1.0 0.0 37.86666666666667 9000000.0]\n",
            " [0.0 0.0 1.0 26.0 5800000.0]\n",
            " [0.0 1.0 0.0 55.0 12000000.0]\n",
            " [0.0 1.0 0.0 30.0 8368750.0]\n",
            " [0.0 1.0 0.0 31.0 8368750.0]\n",
            " [1.0 0.0 0.0 25.0 5000000.0]\n",
            " [0.0 1.0 0.0 37.86666666666667 11200000.0]\n",
            " [1.0 0.0 0.0 39.0 8368750.0]\n",
            " [1.0 0.0 0.0 37.86666666666667 7200000.0]\n",
            " [1.0 0.0 0.0 27.0 6300000.0]\n",
            " [0.0 0.0 1.0 32.0 6500000.0]\n",
            " [1.0 0.0 0.0 46.0 9700000.0]\n",
            " [0.0 0.0 1.0 37.0 9100000.0]\n",
            " [0.0 0.0 1.0 45.0 10000000.0]]\n"
          ]
        }
      ]
    },
    {
      "cell_type": "markdown",
      "source": [
        "Saat kita menjalankan `print(X_test)`, program akan menampilkan data uji (testing) setelah proses pembagian dataset. Data ini digunakan untuk menguji kinerja model setelah dilatih."
      ],
      "metadata": {
        "id": "vzOg8k4EWyHg"
      }
    },
    {
      "cell_type": "code",
      "source": [
        "print(x_test)"
      ],
      "metadata": {
        "colab": {
          "base_uri": "https://localhost:8080/"
        },
        "id": "lxpF0iBPUD1m",
        "outputId": "a4cfa398-3dc8-48f6-8a58-3c2bdf2986f8"
      },
      "execution_count": null,
      "outputs": [
        {
          "output_type": "stream",
          "name": "stdout",
          "text": [
            "[[1.0 0.0 0.0 35.0 8000000.0]\n",
            " [0.0 1.0 0.0 48.0 10200000.0]\n",
            " [1.0 0.0 0.0 50.0 8368750.0]\n",
            " [0.0 1.0 0.0 42.0 8300000.0]]\n"
          ]
        }
      ]
    },
    {
      "cell_type": "markdown",
      "source": [
        "Saat kita menjalankan `print(y_train)`, program akan menampilkan data latih (training) untuk variabel target (y). Data ini digunakan oleh model machine learning untuk belajar dan menemukan pola dari dataset."
      ],
      "metadata": {
        "id": "JldT8JHAWzka"
      }
    },
    {
      "cell_type": "code",
      "source": [
        "print(y_train)"
      ],
      "metadata": {
        "colab": {
          "base_uri": "https://localhost:8080/"
        },
        "id": "Pjs2b142UHo2",
        "outputId": "56f416e9-1e1d-47e0-ce64-a08a59578621"
      },
      "execution_count": null,
      "outputs": [
        {
          "output_type": "stream",
          "name": "stdout",
          "text": [
            "[1 0 0 1 1 0 1 1 1 0 1 2 0 0 1 1]\n"
          ]
        }
      ]
    },
    {
      "cell_type": "markdown",
      "source": [
        "Saat kita menjalankan `print(y_test)`, program akan menampilkan data uji (testing) untuk variabel target (y). Data ini digunakan untuk mengukur seberapa baik model dapat memprediksi hasil berdasarkan data yang belum pernah dilihat sebelumnya."
      ],
      "metadata": {
        "id": "sxuplUYmW03j"
      }
    },
    {
      "cell_type": "code",
      "source": [
        "print(y_test)"
      ],
      "metadata": {
        "colab": {
          "base_uri": "https://localhost:8080/"
        },
        "id": "E3Y41s-bUI5-",
        "outputId": "8514c869-095c-4e23-d0af-466358faeca9"
      },
      "execution_count": null,
      "outputs": [
        {
          "output_type": "stream",
          "name": "stdout",
          "text": [
            "[2 0 0 2]\n"
          ]
        }
      ]
    },
    {
      "cell_type": "markdown",
      "source": [
        "Kita akan menstandarisasi fitur numerik dalam dataset menggunakan **StandardScaler** dari `sklearn.preprocessing`. Metode ini mengubah data sehingga memiliki rata-rata 0 dan standar deviasi 1, sehingga model machine learning dapat bekerja lebih optimal."
      ],
      "metadata": {
        "id": "lHrIioDIW-Hn"
      }
    },
    {
      "cell_type": "code",
      "source": [
        "from sklearn.preprocessing import StandardScaler\n",
        "sc = StandardScaler()\n",
        "x_train[:, 4:] = sc.fit_transform(x_train[:, 4:])\n",
        "x_test[:, 4:]= sc.transform(x_test[:, 4:])"
      ],
      "metadata": {
        "id": "dCLceTsMULjm"
      },
      "execution_count": null,
      "outputs": []
    },
    {
      "cell_type": "markdown",
      "source": [
        "Saat kita menjalankan `print(X_train)`, program akan menampilkan data latih (training) setelah proses standarisasi. Data ini telah diubah sehingga memiliki rata-rata 0 dan standar deviasi 1, membantu model machine learning bekerja lebih optimal."
      ],
      "metadata": {
        "id": "Zg3tEtvuXA_o"
      }
    },
    {
      "cell_type": "code",
      "source": [
        "print(x_train)"
      ],
      "metadata": {
        "colab": {
          "base_uri": "https://localhost:8080/"
        },
        "id": "Fea4kkE2UNl0",
        "outputId": "91920907-cd95-443c-f462-fe0359ac0aaa"
      },
      "execution_count": null,
      "outputs": [
        {
          "output_type": "stream",
          "name": "stdout",
          "text": [
            "[[0.0 0.0 1.0 37.86666666666667 -0.6884003376627703]\n",
            " [0.0 0.0 1.0 37.86666666666667 0.17099855994975857]\n",
            " [0.0 1.0 0.0 37.86666666666667 0.3858482843528908]\n",
            " [0.0 0.0 1.0 26.0 -1.332949510872167]\n",
            " [0.0 1.0 0.0 55.0 1.9972212173763826]\n",
            " [0.0 1.0 0.0 30.0 0.04678856302919774]\n",
            " [0.0 1.0 0.0 31.0 0.04678856302919774]\n",
            " [1.0 0.0 0.0 25.0 -1.7626489596784316]\n",
            " [0.0 1.0 0.0 37.86666666666667 1.5675217685701182]\n",
            " [1.0 0.0 0.0 39.0 0.04678856302919774]\n",
            " [1.0 0.0 0.0 37.86666666666667 -0.5809754754612042]\n",
            " [1.0 0.0 0.0 27.0 -1.0643873553682517]\n",
            " [0.0 0.0 1.0 32.0 -0.9569624931666857]\n",
            " [1.0 0.0 0.0 46.0 0.7618353020583722]\n",
            " [0.0 0.0 1.0 37.0 0.43956071545367387]\n",
            " [0.0 0.0 1.0 45.0 0.9229725953607214]]\n"
          ]
        }
      ]
    }
  ]
}